{
  "nbformat": 4,
  "nbformat_minor": 0,
  "metadata": {
    "colab": {
      "name": "Assignment1.ipynb",
      "provenance": [],
      "collapsed_sections": []
    },
    "kernelspec": {
      "name": "python3",
      "display_name": "Python 3"
    },
    "language_info": {
      "name": "python"
    }
  },
  "cells": [
    {
      "cell_type": "code",
      "execution_count": null,
      "metadata": {
        "id": "jAiLsPB9jvV6"
      },
      "outputs": [],
      "source": [
        "# Name: SAIRUSHI NANASAHEB GADAKH \n",
        "# Roll no.: 9169"
      ]
    },
    {
      "cell_type": "code",
      "source": [
        "# list 1\n",
        "S=[\"Name:Sairushi Gadakh\",\"Class:T.Y.BSc\",\"Roll no.: 9169\"]              # create a list\n",
        "print(S)\n",
        "type(S)\n",
        "print(type(S))"
      ],
      "metadata": {
        "colab": {
          "base_uri": "https://localhost:8080/"
        },
        "id": "7v4E_exhod0l",
        "outputId": "64412100-7028-49c6-ac12-88ad69c6e32e"
      },
      "execution_count": 36,
      "outputs": [
        {
          "output_type": "stream",
          "name": "stdout",
          "text": [
            "['Name:Sairushi Gadakh', 'Class:T.Y.BSc', 'Roll no.: 9169']\n",
            "<class 'list'>\n"
          ]
        }
      ]
    },
    {
      "cell_type": "code",
      "source": [
        "# adding an element at the end of the given list Here list S\n",
        "S.append(\"DOB:21-01-2002\")\n",
        "print(S)"
      ],
      "metadata": {
        "colab": {
          "base_uri": "https://localhost:8080/"
        },
        "id": "zznOZmTuofze",
        "outputId": "79305709-4702-485a-fbf5-5d96673d105b"
      },
      "execution_count": 37,
      "outputs": [
        {
          "output_type": "stream",
          "name": "stdout",
          "text": [
            "['Name:Sairushi Gadakh', 'Class:T.Y.BSc', 'Roll no.: 9169', 'DOB:21-01-2002']\n"
          ]
        }
      ]
    },
    {
      "cell_type": "code",
      "source": [
        "S.insert(2,\"Department: Statistics\")           # adding an elememt at specified position\n",
        "S.insert(5,\"Class:T.Y.BSc\")\n",
        "print(S)"
      ],
      "metadata": {
        "colab": {
          "base_uri": "https://localhost:8080/"
        },
        "id": "RcMo55vkp2rT",
        "outputId": "6fab295b-03c2-4f12-b7ba-ff27f06afd3b"
      },
      "execution_count": 38,
      "outputs": [
        {
          "output_type": "stream",
          "name": "stdout",
          "text": [
            "['Name:Sairushi Gadakh', 'Class:T.Y.BSc', 'Department: Statistics', 'Roll no.: 9169', 'DOB:21-01-2002', 'Class:T.Y.BSc']\n"
          ]
        }
      ]
    },
    {
      "cell_type": "code",
      "source": [
        "C=S.count(\"Class:T.Y.BSc\")    # Return the number of element with specified value\n",
        "print(C)\n",
        "print(S[:1])                  # only for first index value\n",
        "print(S[1:])                  # for index value from first onwards \n",
        "print(S[2:5])                 # access items"
      ],
      "metadata": {
        "colab": {
          "base_uri": "https://localhost:8080/"
        },
        "id": "8xnzVtqRqS-Q",
        "outputId": "0a3fd75d-c91a-43ca-aef1-70c7500d0c10"
      },
      "execution_count": 39,
      "outputs": [
        {
          "output_type": "stream",
          "name": "stdout",
          "text": [
            "2\n",
            "['Name:Sairushi Gadakh']\n",
            "['Class:T.Y.BSc', 'Department: Statistics', 'Roll no.: 9169', 'DOB:21-01-2002', 'Class:T.Y.BSc']\n",
            "['Department: Statistics', 'Roll no.: 9169', 'DOB:21-01-2002']\n"
          ]
        }
      ]
    },
    {
      "cell_type": "code",
      "source": [
        "## negative index\n",
        "print(S[-1])                 # for the last element of the list\n",
        "print(S[-2:])\n",
        "print(S[:-3])"
      ],
      "metadata": {
        "colab": {
          "base_uri": "https://localhost:8080/"
        },
        "id": "Cjl98nremThg",
        "outputId": "34b67ad5-4e27-40e8-a3a5-670efa665980"
      },
      "execution_count": 40,
      "outputs": [
        {
          "output_type": "stream",
          "name": "stdout",
          "text": [
            "Class:T.Y.BSc\n",
            "['DOB:21-01-2002', 'Class:T.Y.BSc']\n",
            "['Name:Sairushi Gadakh', 'Class:T.Y.BSc', 'Department: Statistics']\n"
          ]
        }
      ]
    },
    {
      "cell_type": "code",
      "source": [
        "# change item in the list\n",
        "print(S)\n",
        "S[2]=\"Department of Statistics\"\n",
        "print(S)"
      ],
      "metadata": {
        "colab": {
          "base_uri": "https://localhost:8080/"
        },
        "id": "eALmLMCEmzMQ",
        "outputId": "12290cce-4a97-4106-fab5-724d03e34acd"
      },
      "execution_count": 41,
      "outputs": [
        {
          "output_type": "stream",
          "name": "stdout",
          "text": [
            "['Name:Sairushi Gadakh', 'Class:T.Y.BSc', 'Department: Statistics', 'Roll no.: 9169', 'DOB:21-01-2002', 'Class:T.Y.BSc']\n",
            "['Name:Sairushi Gadakh', 'Class:T.Y.BSc', 'Department of Statistics', 'Roll no.: 9169', 'DOB:21-01-2002', 'Class:T.Y.BSc']\n"
          ]
        }
      ]
    },
    {
      "cell_type": "code",
      "source": [
        "S.extend([\"Address:Kumar Galaxy, Bhawani Peth, Pune\"])       #adds element to the end of list\n",
        "print(S)"
      ],
      "metadata": {
        "colab": {
          "base_uri": "https://localhost:8080/"
        },
        "id": "QbmBC7CCqy2l",
        "outputId": "0b58d548-cc3e-4549-9914-d8ac88b7731a"
      },
      "execution_count": 42,
      "outputs": [
        {
          "output_type": "stream",
          "name": "stdout",
          "text": [
            "['Name:Sairushi Gadakh', 'Class:T.Y.BSc', 'Department of Statistics', 'Roll no.: 9169', 'DOB:21-01-2002', 'Class:T.Y.BSc', 'Address:Kumar Galaxy, Bhawani Peth, Pune']\n"
          ]
        }
      ]
    },
    {
      "cell_type": "code",
      "source": [
        "S.copy()               # gives a copy of list\n",
        "print(S)"
      ],
      "metadata": {
        "colab": {
          "base_uri": "https://localhost:8080/"
        },
        "id": "8jFFsk2LtD2x",
        "outputId": "27cfd084-3ebd-48fb-c6b1-3095f2849a37"
      },
      "execution_count": 43,
      "outputs": [
        {
          "output_type": "stream",
          "name": "stdout",
          "text": [
            "['Name:Sairushi Gadakh', 'Class:T.Y.BSc', 'Department of Statistics', 'Roll no.: 9169', 'DOB:21-01-2002', 'Class:T.Y.BSc', 'Address:Kumar Galaxy, Bhawani Peth, Pune']\n"
          ]
        }
      ]
    },
    {
      "cell_type": "code",
      "source": [
        "  i=S.index(\"Roll no.: 9169\")          #Returns the index of the element with specified value\n",
        "  print(i)\n",
        "  print(S)"
      ],
      "metadata": {
        "colab": {
          "base_uri": "https://localhost:8080/"
        },
        "id": "TlG4veiFtqPT",
        "outputId": "f6808ce2-caab-4712-e1e1-2adf88c0447e"
      },
      "execution_count": 44,
      "outputs": [
        {
          "output_type": "stream",
          "name": "stdout",
          "text": [
            "3\n",
            "['Name:Sairushi Gadakh', 'Class:T.Y.BSc', 'Department of Statistics', 'Roll no.: 9169', 'DOB:21-01-2002', 'Class:T.Y.BSc', 'Address:Kumar Galaxy, Bhawani Peth, Pune']\n"
          ]
        }
      ]
    },
    {
      "cell_type": "code",
      "source": [
        "# loopingthrough list\n",
        "for i in S:\n",
        "       print(i)"
      ],
      "metadata": {
        "colab": {
          "base_uri": "https://localhost:8080/"
        },
        "id": "0alVkdC7n64H",
        "outputId": "e49a7384-9022-4171-bd42-59cc079b84f9"
      },
      "execution_count": 45,
      "outputs": [
        {
          "output_type": "stream",
          "name": "stdout",
          "text": [
            "Name:Sairushi Gadakh\n",
            "Class:T.Y.BSc\n",
            "Department of Statistics\n",
            "Roll no.: 9169\n",
            "DOB:21-01-2002\n",
            "Class:T.Y.BSc\n",
            "Address:Kumar Galaxy, Bhawani Peth, Pune\n"
          ]
        }
      ]
    },
    {
      "cell_type": "code",
      "source": [
        "p=S.pop(5)                # Removes the element at specified position \n",
        "print(p)\n",
        "print(S)"
      ],
      "metadata": {
        "colab": {
          "base_uri": "https://localhost:8080/"
        },
        "id": "e_r0UPuX9N31",
        "outputId": "d7ba5fe1-e2e8-48e8-a40a-1fc035e216ad"
      },
      "execution_count": 29,
      "outputs": [
        {
          "output_type": "stream",
          "name": "stdout",
          "text": [
            "Class:T.Y.BSc\n",
            "['Name:Sairushi Gadakh', 'Class:T.Y.BSc', 'Department of Statistics', 'Roll no.: 9169', 'DOB:21-01-2002', 'Address:Kumar Galaxy, Bhawani Peth, Pune']\n"
          ]
        }
      ]
    },
    {
      "cell_type": "code",
      "source": [
        "print(S)\n",
        "S.remove(\"Class:T.Y.BSc\")                 #Removes the item with the specified value\n",
        "print(S)\n"
      ],
      "metadata": {
        "colab": {
          "base_uri": "https://localhost:8080/"
        },
        "id": "SsXfVa5x-5I5",
        "outputId": "7677b319-e308-4a2f-d575-45f00bf7a5b6"
      },
      "execution_count": 30,
      "outputs": [
        {
          "output_type": "stream",
          "name": "stdout",
          "text": [
            "['Name:Sairushi Gadakh', 'Class:T.Y.BSc', 'Department of Statistics', 'Roll no.: 9169', 'DOB:21-01-2002', 'Address:Kumar Galaxy, Bhawani Peth, Pune']\n",
            "['Name:Sairushi Gadakh', 'Department of Statistics', 'Roll no.: 9169', 'DOB:21-01-2002', 'Address:Kumar Galaxy, Bhawani Peth, Pune']\n"
          ]
        }
      ]
    },
    {
      "cell_type": "code",
      "source": [
        "print(S)\n",
        "S.reverse()    # reverses theorder of the list\n",
        "\n",
        "print(S)"
      ],
      "metadata": {
        "colab": {
          "base_uri": "https://localhost:8080/"
        },
        "id": "twG97OT_DHNg",
        "outputId": "40fc3831-b4b5-4975-89f3-b433fdf0eaf6"
      },
      "execution_count": 31,
      "outputs": [
        {
          "output_type": "stream",
          "name": "stdout",
          "text": [
            "['Name:Sairushi Gadakh', 'Department of Statistics', 'Roll no.: 9169', 'DOB:21-01-2002', 'Address:Kumar Galaxy, Bhawani Peth, Pune']\n",
            "['Address:Kumar Galaxy, Bhawani Peth, Pune', 'DOB:21-01-2002', 'Roll no.: 9169', 'Department of Statistics', 'Name:Sairushi Gadakh']\n"
          ]
        }
      ]
    },
    {
      "cell_type": "code",
      "source": [
        "S.sort()        # sorts the list\n",
        "print(S)"
      ],
      "metadata": {
        "colab": {
          "base_uri": "https://localhost:8080/"
        },
        "id": "iCen_tOED0Ks",
        "outputId": "8840e4c8-8542-4a43-e09e-545221bf7f64"
      },
      "execution_count": 32,
      "outputs": [
        {
          "output_type": "stream",
          "name": "stdout",
          "text": [
            "['Address:Kumar Galaxy, Bhawani Peth, Pune', 'DOB:21-01-2002', 'Department of Statistics', 'Name:Sairushi Gadakh', 'Roll no.: 9169']\n"
          ]
        }
      ]
    },
    {
      "cell_type": "code",
      "source": [
        "S.clear()                   # removes all element from the list\n",
        "print(S)\n",
        "len(S)                      # gives length of list"
      ],
      "metadata": {
        "colab": {
          "base_uri": "https://localhost:8080/"
        },
        "id": "5z777U3-nQUi",
        "outputId": "dd2beda6-396f-48dd-c397-a2c2eb5ae72e"
      },
      "execution_count": 33,
      "outputs": [
        {
          "output_type": "stream",
          "name": "stdout",
          "text": [
            "[]\n"
          ]
        },
        {
          "output_type": "execute_result",
          "data": {
            "text/plain": [
              "0"
            ]
          },
          "metadata": {},
          "execution_count": 33
        }
      ]
    },
    {
      "cell_type": "code",
      "source": [
        "##### List 2"
      ],
      "metadata": {
        "id": "9a1XcFCxEOZl"
      },
      "execution_count": null,
      "outputs": []
    },
    {
      "cell_type": "code",
      "source": [
        "L2=[\"Sir Parashurambhau College\",\"Tilak Road\",\"Tal. Haveli\"]\n",
        "print(L2)\n",
        "print(type(L2))"
      ],
      "metadata": {
        "colab": {
          "base_uri": "https://localhost:8080/"
        },
        "id": "pWzk4yf_EOnI",
        "outputId": "582a7723-15d6-4c49-f3fe-93cb28b5a31a"
      },
      "execution_count": 34,
      "outputs": [
        {
          "output_type": "stream",
          "name": "stdout",
          "text": [
            "['Sir Parashurambhau College', 'Tilak Road', 'Tal. Haveli']\n",
            "<class 'list'>\n"
          ]
        }
      ]
    },
    {
      "cell_type": "code",
      "source": [
        "L2.append(\"Pune\")                      # adding an element at the end of the given list Here list S\n",
        "print(L2)"
      ],
      "metadata": {
        "colab": {
          "base_uri": "https://localhost:8080/"
        },
        "id": "NFKWi1ptFMcx",
        "outputId": "a111b6fa-5036-4d7d-f467-be24b93b3ea8"
      },
      "execution_count": 35,
      "outputs": [
        {
          "output_type": "stream",
          "name": "stdout",
          "text": [
            "['Sir Parashurambhau College', 'Tilak Road', 'Tal. Haveli', 'Pune']\n"
          ]
        }
      ]
    },
    {
      "cell_type": "code",
      "source": [
        "L2.insert(2,\"Sadashiv Peth\")            # adding an elememt at specified position\n",
        "print(L2)"
      ],
      "metadata": {
        "colab": {
          "base_uri": "https://localhost:8080/"
        },
        "id": "2ZgagmycFZgb",
        "outputId": "037f2bee-6eca-45c0-9125-5e055fe3d184"
      },
      "execution_count": null,
      "outputs": [
        {
          "output_type": "stream",
          "name": "stdout",
          "text": [
            "['Sir Parashurambhau College', 'Tilak Road', 'Sadashiv Peth', 'Tal. Haveli', 'Pune']\n"
          ]
        }
      ]
    },
    {
      "cell_type": "code",
      "source": [
        "L2.count(\"Tilak Road\")               # Return the number of element with specified value\n"
      ],
      "metadata": {
        "colab": {
          "base_uri": "https://localhost:8080/"
        },
        "id": "P1VJzFORF2Rs",
        "outputId": "bdb881e8-225e-4140-fabf-9be878f3f1bc"
      },
      "execution_count": null,
      "outputs": [
        {
          "output_type": "execute_result",
          "data": {
            "text/plain": [
              "1"
            ]
          },
          "metadata": {},
          "execution_count": 120
        }
      ]
    },
    {
      "cell_type": "code",
      "source": [
        "L2.extend([\"Maharashtra\",\"India\"])   # add elements to the end of list\n",
        "print(L2)"
      ],
      "metadata": {
        "colab": {
          "base_uri": "https://localhost:8080/"
        },
        "id": "ixqydh-HGL6v",
        "outputId": "63d2d7cb-3dd5-4798-ebab-fc279333019d"
      },
      "execution_count": null,
      "outputs": [
        {
          "output_type": "stream",
          "name": "stdout",
          "text": [
            "['Sir Parashurambhau College', 'Tilak Road', 'Sadashiv Peth', 'Tal. Haveli', 'Pune', 'Maharashtra', 'India']\n"
          ]
        }
      ]
    },
    {
      "cell_type": "code",
      "source": [
        "L2.copy()        # Returns a copy of list\n",
        "print(L2)"
      ],
      "metadata": {
        "colab": {
          "base_uri": "https://localhost:8080/"
        },
        "id": "0RlW7ubNGsEl",
        "outputId": "c980ad69-ce41-42ba-cf1b-aa463fcf3034"
      },
      "execution_count": null,
      "outputs": [
        {
          "output_type": "stream",
          "name": "stdout",
          "text": [
            "['Sir Parashurambhau College', 'Tilak Road', 'Sadashiv Peth', 'Tal. Haveli', 'Pune', 'Maharashtra', 'India']\n"
          ]
        }
      ]
    },
    {
      "cell_type": "code",
      "source": [
        "C=L2.clear() # Removes all element froom the list\n",
        "print(C)"
      ],
      "metadata": {
        "colab": {
          "base_uri": "https://localhost:8080/"
        },
        "id": "dfLtm_0YG0De",
        "outputId": "ccf643e1-cd61-48e5-94c1-1fc2dfc5ddc9"
      },
      "execution_count": null,
      "outputs": [
        {
          "output_type": "stream",
          "name": "stdout",
          "text": [
            "None\n"
          ]
        }
      ]
    },
    {
      "cell_type": "code",
      "source": [
        "print(L2)"
      ],
      "metadata": {
        "colab": {
          "base_uri": "https://localhost:8080/"
        },
        "id": "S3TIJhNjHjty",
        "outputId": "1ea713ea-c91f-4c00-e137-f03aa8a9f2c3"
      },
      "execution_count": null,
      "outputs": [
        {
          "output_type": "stream",
          "name": "stdout",
          "text": [
            "['Sir Parashurambhau College', 'Tilak Road', 'Sadashiv Peth', 'Tal. Haveli', 'Pune', 'Maharashtra', 'India']\n"
          ]
        }
      ]
    },
    {
      "cell_type": "code",
      "source": [
        "L2.index(\"Pune\")             #Returns the index of the element with specified value"
      ],
      "metadata": {
        "colab": {
          "base_uri": "https://localhost:8080/"
        },
        "id": "OYqvKeM7HMmZ",
        "outputId": "7d2c3979-c95a-4fcb-b7b9-b4b067ae9c67"
      },
      "execution_count": null,
      "outputs": [
        {
          "output_type": "execute_result",
          "data": {
            "text/plain": [
              "4"
            ]
          },
          "metadata": {},
          "execution_count": 131
        }
      ]
    },
    {
      "cell_type": "code",
      "source": [
        "L2.pop(2)    # Removes the element at specified position\n",
        "print(L2)"
      ],
      "metadata": {
        "colab": {
          "base_uri": "https://localhost:8080/"
        },
        "id": "18-WHRz9Hymv",
        "outputId": "721075bd-9569-4463-9ed6-3372fbc2ee26"
      },
      "execution_count": null,
      "outputs": [
        {
          "output_type": "stream",
          "name": "stdout",
          "text": [
            "['Sir Parashurambhau College', 'Tilak Road', 'Tal. Haveli', 'Pune', 'Maharashtra', 'India']\n"
          ]
        }
      ]
    },
    {
      "cell_type": "code",
      "source": [
        "L2.remove(\"Tal. Haveli\")      #Removes the item with the specified value\n",
        "print(L2)"
      ],
      "metadata": {
        "colab": {
          "base_uri": "https://localhost:8080/"
        },
        "id": "-XcTqBqwIq7s",
        "outputId": "bb697988-4bd4-4f1e-cd9b-6a9b2490712e"
      },
      "execution_count": null,
      "outputs": [
        {
          "output_type": "stream",
          "name": "stdout",
          "text": [
            "['Sir Parashurambhau College', 'Tilak Road', 'Pune', 'Maharashtra', 'India']\n"
          ]
        }
      ]
    },
    {
      "cell_type": "code",
      "source": [
        "L2.reverse()  # reverses theorder of the list\n",
        "print(L2)"
      ],
      "metadata": {
        "colab": {
          "base_uri": "https://localhost:8080/"
        },
        "id": "eERKxEr1JAub",
        "outputId": "426e78ee-96ad-4852-ed1b-c79734c8cf92"
      },
      "execution_count": null,
      "outputs": [
        {
          "output_type": "stream",
          "name": "stdout",
          "text": [
            "['India', 'Maharashtra', 'Pune', 'Tilak Road', 'Sir Parashurambhau College']\n"
          ]
        }
      ]
    },
    {
      "cell_type": "code",
      "source": [
        "L2.sort()    # sorts the list\n",
        "print(L2)"
      ],
      "metadata": {
        "colab": {
          "base_uri": "https://localhost:8080/"
        },
        "id": "d6AVEM5HJLRY",
        "outputId": "c23b14ca-de73-42e3-e4e5-51378ab0a92e"
      },
      "execution_count": null,
      "outputs": [
        {
          "output_type": "stream",
          "name": "stdout",
          "text": [
            "['India', 'Maharashtra', 'Pune', 'Sir Parashurambhau College', 'Tilak Road']\n"
          ]
        }
      ]
    },
    {
      "cell_type": "code",
      "source": [
        "##############################################################################################################################################################"
      ],
      "metadata": {
        "id": "SSHNtBFkZrtK"
      },
      "execution_count": 1,
      "outputs": []
    },
    {
      "cell_type": "code",
      "source": [
        " A=(\"Sairushi Gadakh\",\"DOB: 21-01-2002\",\"T.Y.BSc\",\"Department of Statistics\",\"Roll no.: 9169\")                 # create  a tuple\n",
        " print(A)\n",
        " print(type(A))"
      ],
      "metadata": {
        "colab": {
          "base_uri": "https://localhost:8080/"
        },
        "id": "ije2ZFW3Z3Ca",
        "outputId": "9d0de7ea-ad3d-4c48-c0d9-60a7db4c7dd7"
      },
      "execution_count": 46,
      "outputs": [
        {
          "output_type": "stream",
          "name": "stdout",
          "text": [
            "('Sairushi Gadakh', 'DOB: 21-01-2002', 'T.Y.BSc', 'Department of Statistics', 'Roll no.: 9169')\n",
            "<class 'tuple'>\n"
          ]
        }
      ]
    },
    {
      "cell_type": "code",
      "source": [
        "c=A.count(\"Sairushi Gadakh\")       # counts no. of element in the tuple\n",
        "print(c)\n",
        "\n",
        "len(A)"
      ],
      "metadata": {
        "colab": {
          "base_uri": "https://localhost:8080/"
        },
        "id": "pp1BghLqkOwm",
        "outputId": "1efedb08-967b-41b1-e614-ffae9ed5bf3d"
      },
      "execution_count": 48,
      "outputs": [
        {
          "output_type": "stream",
          "name": "stdout",
          "text": [
            "1\n"
          ]
        },
        {
          "output_type": "execute_result",
          "data": {
            "text/plain": [
              "5"
            ]
          },
          "metadata": {},
          "execution_count": 48
        }
      ]
    },
    {
      "cell_type": "code",
      "source": [
        "print(A[:1])              # for index value one\n",
        "print(A[1:])              # from first index value onward\n"
      ],
      "metadata": {
        "colab": {
          "base_uri": "https://localhost:8080/"
        },
        "id": "KcGq-kpskmFk",
        "outputId": "e32c8cff-ed59-428a-db05-31afb55d12db"
      },
      "execution_count": 6,
      "outputs": [
        {
          "output_type": "stream",
          "name": "stdout",
          "text": [
            "('Sairushi Gadakh',)\n",
            "('DOB: 21-01-2002', 'T.Y.BSc', 'Roll no.: 9169')\n"
          ]
        }
      ]
    },
    {
      "cell_type": "code",
      "source": [
        "# access elements in tuple\n",
        "print(A[0])\n",
        "print(A[2:4])\n",
        "print(A[:5])"
      ],
      "metadata": {
        "colab": {
          "base_uri": "https://localhost:8080/"
        },
        "id": "vVTiACYilAmH",
        "outputId": "48a2456f-6136-410c-8fdb-57bae1d13f54"
      },
      "execution_count": 51,
      "outputs": [
        {
          "output_type": "stream",
          "name": "stdout",
          "text": [
            "Sairushi Gadakh\n",
            "('T.Y.BSc', 'Department of Statistics')\n",
            "('Sairushi Gadakh', 'DOB: 21-01-2002', 'T.Y.BSc', 'Department of Statistics', 'Roll no.: 9169')\n"
          ]
        }
      ]
    },
    {
      "cell_type": "code",
      "source": [
        "# Negative access\n",
        "print(A[-4])\n",
        "print(A[-4:])"
      ],
      "metadata": {
        "colab": {
          "base_uri": "https://localhost:8080/"
        },
        "id": "YVPH4duFoyCk",
        "outputId": "5a2d593c-e6e4-449f-a15f-88b4db73cd65"
      },
      "execution_count": 52,
      "outputs": [
        {
          "output_type": "stream",
          "name": "stdout",
          "text": [
            "DOB: 21-01-2002\n",
            "('DOB: 21-01-2002', 'T.Y.BSc', 'Department of Statistics', 'Roll no.: 9169')\n"
          ]
        }
      ]
    },
    {
      "cell_type": "code",
      "source": [
        "# looping through tuple\n",
        "for j in A:\n",
        "    print(j)"
      ],
      "metadata": {
        "colab": {
          "base_uri": "https://localhost:8080/"
        },
        "id": "AmQScsShpRc9",
        "outputId": "796e90ec-3382-461a-d024-fb51b2715460"
      },
      "execution_count": 59,
      "outputs": [
        {
          "output_type": "stream",
          "name": "stdout",
          "text": [
            "Sairushi Gadakh\n",
            "DOB: 21-01-2002\n",
            "T.Y.BSc\n",
            "Department of Statistics\n",
            "Roll no.: 9169\n"
          ]
        }
      ]
    },
    {
      "cell_type": "code",
      "source": [
        "# check whether an element belongs to tuple\n",
        "if \"Sairushi Gadakh\" in A:\n",
        "       print(\"Sairushi Gadakh is in the tuple\")"
      ],
      "metadata": {
        "colab": {
          "base_uri": "https://localhost:8080/"
        },
        "id": "G2umXO3VqJLN",
        "outputId": "9c2e9546-6aa6-4ebf-817b-a0c61ae4e123"
      },
      "execution_count": 60,
      "outputs": [
        {
          "output_type": "stream",
          "name": "stdout",
          "text": [
            "Sairushi Gadakh is in the tuple\n"
          ]
        }
      ]
    },
    {
      "cell_type": "code",
      "source": [
        "len(A)                # give slength of tuple"
      ],
      "metadata": {
        "colab": {
          "base_uri": "https://localhost:8080/"
        },
        "id": "RvCKFxeXuhvo",
        "outputId": "74367cdf-5298-40de-8232-2e8f58ef2141"
      },
      "execution_count": 61,
      "outputs": [
        {
          "output_type": "execute_result",
          "data": {
            "text/plain": [
              "5"
            ]
          },
          "metadata": {},
          "execution_count": 61
        }
      ]
    },
    {
      "cell_type": "code",
      "source": [
        "A.count(\"Department of Statistics\")             # returns the no. of times a sprcified value occur in a tuple"
      ],
      "metadata": {
        "colab": {
          "base_uri": "https://localhost:8080/"
        },
        "id": "H8ar2WDRunkK",
        "outputId": "efdb0d12-06a7-419c-80e8-cdb7c50c3703"
      },
      "execution_count": 62,
      "outputs": [
        {
          "output_type": "execute_result",
          "data": {
            "text/plain": [
              "1"
            ]
          },
          "metadata": {},
          "execution_count": 62
        }
      ]
    },
    {
      "cell_type": "code",
      "source": [
        "print(A)             \n",
        "A.index(\"T.Y.BSc\")       # seraches  the tuple for a specified value and return the position of where it was found\n"
      ],
      "metadata": {
        "colab": {
          "base_uri": "https://localhost:8080/"
        },
        "id": "Ac__wyO-u-76",
        "outputId": "e9b3c1e1-1831-4cc7-d416-6cda81e9941f"
      },
      "execution_count": 65,
      "outputs": [
        {
          "output_type": "stream",
          "name": "stdout",
          "text": [
            "('Sairushi Gadakh', 'DOB: 21-01-2002', 'T.Y.BSc', 'Department of Statistics', 'Roll no.: 9169')\n"
          ]
        },
        {
          "output_type": "execute_result",
          "data": {
            "text/plain": [
              "2"
            ]
          },
          "metadata": {},
          "execution_count": 65
        }
      ]
    },
    {
      "cell_type": "code",
      "source": [
        "B=(\"Sir Parashurambhau College\",[\"Tilak Road\",\"Tal. Haveli\",\"Pune\"],[\"Maharashtra\",\"India\"])\n",
        "print(B)"
      ],
      "metadata": {
        "colab": {
          "base_uri": "https://localhost:8080/"
        },
        "id": "VptBObpxttZe",
        "outputId": "4b50b0f0-061e-4c9a-9541-57988f0f3a31"
      },
      "execution_count": 68,
      "outputs": [
        {
          "output_type": "stream",
          "name": "stdout",
          "text": [
            "('Sir Parashurambhau College', ['Tilak Road', 'Tal. Haveli', 'Pune'], ['Maharashtra', 'India'])\n"
          ]
        }
      ]
    },
    {
      "cell_type": "code",
      "source": [
        "len(B)"
      ],
      "metadata": {
        "colab": {
          "base_uri": "https://localhost:8080/"
        },
        "id": "L388i6R4xO9u",
        "outputId": "d0b0c507-d413-461c-b058-41d8ca4c0206"
      },
      "execution_count": 69,
      "outputs": [
        {
          "output_type": "execute_result",
          "data": {
            "text/plain": [
              "3"
            ]
          },
          "metadata": {},
          "execution_count": 69
        }
      ]
    },
    {
      "cell_type": "code",
      "source": [
        "# nested tuple\n",
        "print(B[1][2]) \n",
        "print(B[2][1])\n",
        "print(B[-2][-2])"
      ],
      "metadata": {
        "colab": {
          "base_uri": "https://localhost:8080/"
        },
        "id": "pR8b8FSaxRai",
        "outputId": "7d590bfa-2932-4d10-dc08-8d579e5472d0"
      },
      "execution_count": 74,
      "outputs": [
        {
          "output_type": "stream",
          "name": "stdout",
          "text": [
            "Pune\n",
            "India\n",
            "Tal. Haveli\n"
          ]
        }
      ]
    },
    {
      "cell_type": "code",
      "source": [
        "print(\"Sir Parashurambhau College\" in B)                       # in operation\n",
        "print(\"Sadashiv Peth\" in B)\n",
        "print(\"Sadashi Peth\" not in B)              # Not in operation"
      ],
      "metadata": {
        "colab": {
          "base_uri": "https://localhost:8080/"
        },
        "id": "m12yrNInxa6u",
        "outputId": "344390da-3de1-415e-cc23-ca1706cb6a43"
      },
      "execution_count": 77,
      "outputs": [
        {
          "output_type": "stream",
          "name": "stdout",
          "text": [
            "True\n",
            "False\n",
            "True\n"
          ]
        }
      ]
    },
    {
      "cell_type": "code",
      "source": [
        "# iteartion using loop\n",
        "for x in (B):\n",
        "      print(\"I am going to\",x)"
      ],
      "metadata": {
        "colab": {
          "base_uri": "https://localhost:8080/"
        },
        "id": "V7ArYMyeySs_",
        "outputId": "c19a3a7a-faa0-403b-8cc6-16b1ac64f21e"
      },
      "execution_count": 87,
      "outputs": [
        {
          "output_type": "stream",
          "name": "stdout",
          "text": [
            "I am going to Sir Parashurambhau College\n",
            "I am going to ['Tilak Road', 'Tal. Haveli', 'Pune']\n",
            "I am going to ['Maharashtra', 'India']\n"
          ]
        }
      ]
    },
    {
      "cell_type": "code",
      "source": [
        "###########################################################################################################################################"
      ],
      "metadata": {
        "id": "e6T1SF1Ryv_4"
      },
      "execution_count": 88,
      "outputs": []
    }
  ]
}